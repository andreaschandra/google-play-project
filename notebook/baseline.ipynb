{
 "cells": [
  {
   "cell_type": "code",
   "execution_count": 27,
   "id": "4fa7669b",
   "metadata": {},
   "outputs": [],
   "source": [
    "import os, re, pickle\n",
    "\n",
    "import pandas as pd\n",
    "import numpy as np\n",
    "import matplotlib.pyplot as plt\n",
    "import seaborn as sns\n",
    "\n",
    "from Sastrawi.Stemmer.StemmerFactory import StemmerFactory\n",
    "\n",
    "from nltk.tokenize import word_tokenize\n",
    "\n",
    "from sklearn.feature_extraction.text import TfidfVectorizer\n",
    "from sklearn.model_selection import cross_val_score\n",
    "from sklearn.svm import SVC\n",
    "from sklearn.metrics import accuracy_score, precision_score, recall_score, f1_score"
   ]
  },
  {
   "cell_type": "code",
   "execution_count": 69,
   "id": "5325f4c9",
   "metadata": {},
   "outputs": [],
   "source": [
    "import matplotlib"
   ]
  },
  {
   "cell_type": "code",
   "execution_count": 67,
   "id": "b9076671",
   "metadata": {},
   "outputs": [
    {
     "data": {
      "text/plain": [
       "'1.2.4'"
      ]
     },
     "execution_count": 67,
     "metadata": {},
     "output_type": "execute_result"
    }
   ],
   "source": [
    "pd.__version__"
   ]
  },
  {
   "cell_type": "code",
   "execution_count": 68,
   "id": "023bbed2",
   "metadata": {},
   "outputs": [
    {
     "data": {
      "text/plain": [
       "'1.19.2'"
      ]
     },
     "execution_count": 68,
     "metadata": {},
     "output_type": "execute_result"
    }
   ],
   "source": [
    "np.__version__"
   ]
  },
  {
   "cell_type": "code",
   "execution_count": 70,
   "id": "b302512d",
   "metadata": {},
   "outputs": [
    {
     "data": {
      "text/plain": [
       "'3.1.1'"
      ]
     },
     "execution_count": 70,
     "metadata": {},
     "output_type": "execute_result"
    }
   ],
   "source": [
    "matplotlib.__version__"
   ]
  },
  {
   "cell_type": "code",
   "execution_count": 71,
   "id": "0da12c25",
   "metadata": {},
   "outputs": [
    {
     "data": {
      "text/plain": [
       "'0.9.0'"
      ]
     },
     "execution_count": 71,
     "metadata": {},
     "output_type": "execute_result"
    }
   ],
   "source": [
    "sns.__version__"
   ]
  },
  {
   "cell_type": "code",
   "execution_count": 73,
   "id": "f6de7c4d",
   "metadata": {},
   "outputs": [
    {
     "data": {
      "text/plain": [
       "'3.4.4'"
      ]
     },
     "execution_count": 73,
     "metadata": {},
     "output_type": "execute_result"
    }
   ],
   "source": [
    "import nltk\n",
    "nltk.__version__"
   ]
  },
  {
   "cell_type": "code",
   "execution_count": 75,
   "id": "e519d89f",
   "metadata": {},
   "outputs": [
    {
     "data": {
      "text/plain": [
       "'0.22.2.post1'"
      ]
     },
     "execution_count": 75,
     "metadata": {},
     "output_type": "execute_result"
    }
   ],
   "source": [
    "import sklearn\n",
    "sklearn.__version__"
   ]
  },
  {
   "cell_type": "code",
   "execution_count": 3,
   "id": "6f6a9920",
   "metadata": {},
   "outputs": [],
   "source": [
    "DATA_PATH = \"../data\""
   ]
  },
  {
   "cell_type": "code",
   "execution_count": 4,
   "id": "8ced2910",
   "metadata": {},
   "outputs": [],
   "source": [
    "train_data, train_label = pickle.load(open(os.path.join(DATA_PATH, \"training.res\"), \"rb\"))\n",
    "test_data, test_label = pickle.load(open(os.path.join(DATA_PATH, \"testing.res\"), \"rb\"))"
   ]
  },
  {
   "cell_type": "code",
   "execution_count": 6,
   "id": "bcbff5dc",
   "metadata": {},
   "outputs": [],
   "source": [
    "d_train = pd.DataFrame(data={'text': train_data, 'label': train_label})\n",
    "d_test = pd.DataFrame(data={'text': test_data, 'label': test_label})"
   ]
  },
  {
   "cell_type": "code",
   "execution_count": 7,
   "id": "8fe155a6",
   "metadata": {},
   "outputs": [
    {
     "data": {
      "text/html": [
       "<div>\n",
       "<style scoped>\n",
       "    .dataframe tbody tr th:only-of-type {\n",
       "        vertical-align: middle;\n",
       "    }\n",
       "\n",
       "    .dataframe tbody tr th {\n",
       "        vertical-align: top;\n",
       "    }\n",
       "\n",
       "    .dataframe thead th {\n",
       "        text-align: right;\n",
       "    }\n",
       "</style>\n",
       "<table border=\"1\" class=\"dataframe\">\n",
       "  <thead>\n",
       "    <tr style=\"text-align: right;\">\n",
       "      <th></th>\n",
       "      <th>text</th>\n",
       "      <th>label</th>\n",
       "    </tr>\n",
       "  </thead>\n",
       "  <tbody>\n",
       "    <tr>\n",
       "      <th>0</th>\n",
       "      <td>Halo\\n blibli. Sedikit saran untuk gratis ong...</td>\n",
       "      <td>Rated 4 stars out of five stars</td>\n",
       "    </tr>\n",
       "    <tr>\n",
       "      <th>1</th>\n",
       "      <td>So far so good. Respon cepat.</td>\n",
       "      <td>Rated 5 stars out of five stars</td>\n",
       "    </tr>\n",
       "    <tr>\n",
       "      <th>2</th>\n",
       "      <td>thank</td>\n",
       "      <td>Rated 3 stars out of five stars</td>\n",
       "    </tr>\n",
       "    <tr>\n",
       "      <th>3</th>\n",
       "      <td>Aplikasi sering not responding di hp saya (as...</td>\n",
       "      <td>Rated 2 stars out of five stars</td>\n",
       "    </tr>\n",
       "    <tr>\n",
       "      <th>4</th>\n",
       "      <td>Gak ada komentar.</td>\n",
       "      <td>Rated 5 stars out of five stars</td>\n",
       "    </tr>\n",
       "  </tbody>\n",
       "</table>\n",
       "</div>"
      ],
      "text/plain": [
       "                                                text  \\\n",
       "0   Halo\\n blibli. Sedikit saran untuk gratis ong...   \n",
       "1                      So far so good. Respon cepat.   \n",
       "2                                              thank   \n",
       "3   Aplikasi sering not responding di hp saya (as...   \n",
       "4                                  Gak ada komentar.   \n",
       "\n",
       "                             label  \n",
       "0  Rated 4 stars out of five stars  \n",
       "1  Rated 5 stars out of five stars  \n",
       "2  Rated 3 stars out of five stars  \n",
       "3  Rated 2 stars out of five stars  \n",
       "4  Rated 5 stars out of five stars  "
      ]
     },
     "execution_count": 7,
     "metadata": {},
     "output_type": "execute_result"
    }
   ],
   "source": [
    "d_train.head()"
   ]
  },
  {
   "cell_type": "code",
   "execution_count": 8,
   "id": "c9ee0d9b",
   "metadata": {},
   "outputs": [
    {
     "data": {
      "text/html": [
       "<div>\n",
       "<style scoped>\n",
       "    .dataframe tbody tr th:only-of-type {\n",
       "        vertical-align: middle;\n",
       "    }\n",
       "\n",
       "    .dataframe tbody tr th {\n",
       "        vertical-align: top;\n",
       "    }\n",
       "\n",
       "    .dataframe thead th {\n",
       "        text-align: right;\n",
       "    }\n",
       "</style>\n",
       "<table border=\"1\" class=\"dataframe\">\n",
       "  <thead>\n",
       "    <tr style=\"text-align: right;\">\n",
       "      <th></th>\n",
       "      <th>text</th>\n",
       "      <th>label</th>\n",
       "    </tr>\n",
       "  </thead>\n",
       "  <tbody>\n",
       "    <tr>\n",
       "      <th>0</th>\n",
       "      <td>bagussss</td>\n",
       "      <td>Rated 5 stars out of five stars</td>\n",
       "    </tr>\n",
       "    <tr>\n",
       "      <th>1</th>\n",
       "      <td>Pengiriman gratis dan produk bervariasi</td>\n",
       "      <td>Rated 5 stars out of five stars</td>\n",
       "    </tr>\n",
       "    <tr>\n",
       "      <th>2</th>\n",
       "      <td>Praktis dan mudah aplikasinya digunakan</td>\n",
       "      <td>Rated 5 stars out of five stars</td>\n",
       "    </tr>\n",
       "    <tr>\n",
       "      <th>3</th>\n",
       "      <td>No comment</td>\n",
       "      <td>Rated 2 stars out of five stars</td>\n",
       "    </tr>\n",
       "    <tr>\n",
       "      <th>4</th>\n",
       "      <td>Aplikasi Belanja Online terbaik di Indonesia ...</td>\n",
       "      <td>Rated 5 stars out of five stars</td>\n",
       "    </tr>\n",
       "  </tbody>\n",
       "</table>\n",
       "</div>"
      ],
      "text/plain": [
       "                                                text  \\\n",
       "0                                           bagussss   \n",
       "1            Pengiriman gratis dan produk bervariasi   \n",
       "2            Praktis dan mudah aplikasinya digunakan   \n",
       "3                                         No comment   \n",
       "4   Aplikasi Belanja Online terbaik di Indonesia ...   \n",
       "\n",
       "                             label  \n",
       "0  Rated 5 stars out of five stars  \n",
       "1  Rated 5 stars out of five stars  \n",
       "2  Rated 5 stars out of five stars  \n",
       "3  Rated 2 stars out of five stars  \n",
       "4  Rated 5 stars out of five stars  "
      ]
     },
     "execution_count": 8,
     "metadata": {},
     "output_type": "execute_result"
    }
   ],
   "source": [
    "d_test.head()"
   ]
  },
  {
   "cell_type": "code",
   "execution_count": 9,
   "id": "edb077be",
   "metadata": {},
   "outputs": [
    {
     "data": {
      "text/plain": [
       "(7028, 2)"
      ]
     },
     "execution_count": 9,
     "metadata": {},
     "output_type": "execute_result"
    }
   ],
   "source": [
    "d_train.shape"
   ]
  },
  {
   "cell_type": "code",
   "execution_count": 10,
   "id": "c34b4976",
   "metadata": {},
   "outputs": [
    {
     "data": {
      "text/plain": [
       "(3012, 2)"
      ]
     },
     "execution_count": 10,
     "metadata": {},
     "output_type": "execute_result"
    }
   ],
   "source": [
    "d_test.shape"
   ]
  },
  {
   "cell_type": "markdown",
   "id": "20da687a",
   "metadata": {},
   "source": [
    "### Parsing Label"
   ]
  },
  {
   "cell_type": "markdown",
   "id": "ca31b416",
   "metadata": {},
   "source": [
    "This section for parsing label to number"
   ]
  },
  {
   "cell_type": "code",
   "execution_count": 15,
   "id": "299ef330",
   "metadata": {},
   "outputs": [],
   "source": [
    "d_train['label_num'] = d_train.label.apply(lambda label: re.search(\"\\d\", label).group()).astype(int)\n",
    "d_test['label_num'] = d_test.label.apply(lambda label: re.search(\"\\d\", label).group()).astype(int)"
   ]
  },
  {
   "cell_type": "code",
   "execution_count": 19,
   "id": "64cfd0ca",
   "metadata": {},
   "outputs": [],
   "source": [
    "d_train['sentiment'] = (d_train.label_num > 3).astype(int)\n",
    "d_test['sentiment'] = (d_test.label_num > 3).astype(int)"
   ]
  },
  {
   "cell_type": "code",
   "execution_count": 21,
   "id": "b253c883",
   "metadata": {},
   "outputs": [
    {
     "data": {
      "text/html": [
       "<div>\n",
       "<style scoped>\n",
       "    .dataframe tbody tr th:only-of-type {\n",
       "        vertical-align: middle;\n",
       "    }\n",
       "\n",
       "    .dataframe tbody tr th {\n",
       "        vertical-align: top;\n",
       "    }\n",
       "\n",
       "    .dataframe thead th {\n",
       "        text-align: right;\n",
       "    }\n",
       "</style>\n",
       "<table border=\"1\" class=\"dataframe\">\n",
       "  <thead>\n",
       "    <tr style=\"text-align: right;\">\n",
       "      <th></th>\n",
       "      <th>text</th>\n",
       "      <th>label</th>\n",
       "      <th>label_num</th>\n",
       "      <th>sentiment</th>\n",
       "    </tr>\n",
       "  </thead>\n",
       "  <tbody>\n",
       "    <tr>\n",
       "      <th>0</th>\n",
       "      <td>Halo\\n blibli. Sedikit saran untuk gratis ong...</td>\n",
       "      <td>Rated 4 stars out of five stars</td>\n",
       "      <td>4</td>\n",
       "      <td>1</td>\n",
       "    </tr>\n",
       "    <tr>\n",
       "      <th>1</th>\n",
       "      <td>So far so good. Respon cepat.</td>\n",
       "      <td>Rated 5 stars out of five stars</td>\n",
       "      <td>5</td>\n",
       "      <td>1</td>\n",
       "    </tr>\n",
       "    <tr>\n",
       "      <th>2</th>\n",
       "      <td>thank</td>\n",
       "      <td>Rated 3 stars out of five stars</td>\n",
       "      <td>3</td>\n",
       "      <td>0</td>\n",
       "    </tr>\n",
       "    <tr>\n",
       "      <th>3</th>\n",
       "      <td>Aplikasi sering not responding di hp saya (as...</td>\n",
       "      <td>Rated 2 stars out of five stars</td>\n",
       "      <td>2</td>\n",
       "      <td>0</td>\n",
       "    </tr>\n",
       "    <tr>\n",
       "      <th>4</th>\n",
       "      <td>Gak ada komentar.</td>\n",
       "      <td>Rated 5 stars out of five stars</td>\n",
       "      <td>5</td>\n",
       "      <td>1</td>\n",
       "    </tr>\n",
       "  </tbody>\n",
       "</table>\n",
       "</div>"
      ],
      "text/plain": [
       "                                                text  \\\n",
       "0   Halo\\n blibli. Sedikit saran untuk gratis ong...   \n",
       "1                      So far so good. Respon cepat.   \n",
       "2                                              thank   \n",
       "3   Aplikasi sering not responding di hp saya (as...   \n",
       "4                                  Gak ada komentar.   \n",
       "\n",
       "                             label  label_num  sentiment  \n",
       "0  Rated 4 stars out of five stars          4          1  \n",
       "1  Rated 5 stars out of five stars          5          1  \n",
       "2  Rated 3 stars out of five stars          3          0  \n",
       "3  Rated 2 stars out of five stars          2          0  \n",
       "4  Rated 5 stars out of five stars          5          1  "
      ]
     },
     "execution_count": 21,
     "metadata": {},
     "output_type": "execute_result"
    }
   ],
   "source": [
    "d_train.head()"
   ]
  },
  {
   "cell_type": "code",
   "execution_count": 23,
   "id": "015f0d98",
   "metadata": {},
   "outputs": [
    {
     "data": {
      "text/html": [
       "<div>\n",
       "<style scoped>\n",
       "    .dataframe tbody tr th:only-of-type {\n",
       "        vertical-align: middle;\n",
       "    }\n",
       "\n",
       "    .dataframe tbody tr th {\n",
       "        vertical-align: top;\n",
       "    }\n",
       "\n",
       "    .dataframe thead th {\n",
       "        text-align: right;\n",
       "    }\n",
       "</style>\n",
       "<table border=\"1\" class=\"dataframe\">\n",
       "  <thead>\n",
       "    <tr style=\"text-align: right;\">\n",
       "      <th></th>\n",
       "      <th>text</th>\n",
       "      <th>label</th>\n",
       "      <th>label_num</th>\n",
       "      <th>sentiment</th>\n",
       "    </tr>\n",
       "  </thead>\n",
       "  <tbody>\n",
       "    <tr>\n",
       "      <th>0</th>\n",
       "      <td>bagussss</td>\n",
       "      <td>Rated 5 stars out of five stars</td>\n",
       "      <td>5</td>\n",
       "      <td>1</td>\n",
       "    </tr>\n",
       "    <tr>\n",
       "      <th>1</th>\n",
       "      <td>Pengiriman gratis dan produk bervariasi</td>\n",
       "      <td>Rated 5 stars out of five stars</td>\n",
       "      <td>5</td>\n",
       "      <td>1</td>\n",
       "    </tr>\n",
       "    <tr>\n",
       "      <th>2</th>\n",
       "      <td>Praktis dan mudah aplikasinya digunakan</td>\n",
       "      <td>Rated 5 stars out of five stars</td>\n",
       "      <td>5</td>\n",
       "      <td>1</td>\n",
       "    </tr>\n",
       "    <tr>\n",
       "      <th>3</th>\n",
       "      <td>No comment</td>\n",
       "      <td>Rated 2 stars out of five stars</td>\n",
       "      <td>2</td>\n",
       "      <td>0</td>\n",
       "    </tr>\n",
       "    <tr>\n",
       "      <th>4</th>\n",
       "      <td>Aplikasi Belanja Online terbaik di Indonesia ...</td>\n",
       "      <td>Rated 5 stars out of five stars</td>\n",
       "      <td>5</td>\n",
       "      <td>1</td>\n",
       "    </tr>\n",
       "  </tbody>\n",
       "</table>\n",
       "</div>"
      ],
      "text/plain": [
       "                                                text  \\\n",
       "0                                           bagussss   \n",
       "1            Pengiriman gratis dan produk bervariasi   \n",
       "2            Praktis dan mudah aplikasinya digunakan   \n",
       "3                                         No comment   \n",
       "4   Aplikasi Belanja Online terbaik di Indonesia ...   \n",
       "\n",
       "                             label  label_num  sentiment  \n",
       "0  Rated 5 stars out of five stars          5          1  \n",
       "1  Rated 5 stars out of five stars          5          1  \n",
       "2  Rated 5 stars out of five stars          5          1  \n",
       "3  Rated 2 stars out of five stars          2          0  \n",
       "4  Rated 5 stars out of five stars          5          1  "
      ]
     },
     "execution_count": 23,
     "metadata": {},
     "output_type": "execute_result"
    }
   ],
   "source": [
    "d_test.head()"
   ]
  },
  {
   "cell_type": "markdown",
   "id": "a723fe19",
   "metadata": {},
   "source": [
    "### Text preprocessing"
   ]
  },
  {
   "cell_type": "code",
   "execution_count": 28,
   "id": "43be6ef3",
   "metadata": {},
   "outputs": [],
   "source": [
    "factory = StemmerFactory()\n",
    "stemmer = factory.create_stemmer()"
   ]
  },
  {
   "cell_type": "code",
   "execution_count": 29,
   "id": "1e2d5a5f",
   "metadata": {},
   "outputs": [],
   "source": [
    "def preprocess_text(text):\n",
    "    text = text.lower()\n",
    "    \n",
    "    # stemming process\n",
    "    text   = stemmer.stem(text)\n",
    "    \n",
    "    return text"
   ]
  },
  {
   "cell_type": "code",
   "execution_count": 30,
   "id": "7cb9a882",
   "metadata": {},
   "outputs": [],
   "source": [
    "d_train['text_clean'] = d_train.text.apply(preprocess_text)"
   ]
  },
  {
   "cell_type": "code",
   "execution_count": 48,
   "id": "44b9b285",
   "metadata": {},
   "outputs": [],
   "source": [
    "d_test['text_clean'] = d_test.text.apply(preprocess_text)"
   ]
  },
  {
   "cell_type": "code",
   "execution_count": 32,
   "id": "a467c2eb",
   "metadata": {},
   "outputs": [
    {
     "data": {
      "text/html": [
       "<div>\n",
       "<style scoped>\n",
       "    .dataframe tbody tr th:only-of-type {\n",
       "        vertical-align: middle;\n",
       "    }\n",
       "\n",
       "    .dataframe tbody tr th {\n",
       "        vertical-align: top;\n",
       "    }\n",
       "\n",
       "    .dataframe thead th {\n",
       "        text-align: right;\n",
       "    }\n",
       "</style>\n",
       "<table border=\"1\" class=\"dataframe\">\n",
       "  <thead>\n",
       "    <tr style=\"text-align: right;\">\n",
       "      <th></th>\n",
       "      <th>text</th>\n",
       "      <th>label</th>\n",
       "      <th>label_num</th>\n",
       "      <th>sentiment</th>\n",
       "      <th>text_clean</th>\n",
       "    </tr>\n",
       "  </thead>\n",
       "  <tbody>\n",
       "    <tr>\n",
       "      <th>0</th>\n",
       "      <td>Halo\\n blibli. Sedikit saran untuk gratis ong...</td>\n",
       "      <td>Rated 4 stars out of five stars</td>\n",
       "      <td>4</td>\n",
       "      <td>1</td>\n",
       "      <td>halo blibli sedikit saran untuk gratis ongkirn...</td>\n",
       "    </tr>\n",
       "    <tr>\n",
       "      <th>1</th>\n",
       "      <td>So far so good. Respon cepat.</td>\n",
       "      <td>Rated 5 stars out of five stars</td>\n",
       "      <td>5</td>\n",
       "      <td>1</td>\n",
       "      <td>so far so good respon cepat</td>\n",
       "    </tr>\n",
       "    <tr>\n",
       "      <th>2</th>\n",
       "      <td>thank</td>\n",
       "      <td>Rated 3 stars out of five stars</td>\n",
       "      <td>3</td>\n",
       "      <td>0</td>\n",
       "      <td>thank</td>\n",
       "    </tr>\n",
       "    <tr>\n",
       "      <th>3</th>\n",
       "      <td>Aplikasi sering not responding di hp saya (as...</td>\n",
       "      <td>Rated 2 stars out of five stars</td>\n",
       "      <td>2</td>\n",
       "      <td>0</td>\n",
       "      <td>aplikasi sering not responding di hp saya asus...</td>\n",
       "    </tr>\n",
       "    <tr>\n",
       "      <th>4</th>\n",
       "      <td>Gak ada komentar.</td>\n",
       "      <td>Rated 5 stars out of five stars</td>\n",
       "      <td>5</td>\n",
       "      <td>1</td>\n",
       "      <td>gak ada komentar</td>\n",
       "    </tr>\n",
       "  </tbody>\n",
       "</table>\n",
       "</div>"
      ],
      "text/plain": [
       "                                                text  \\\n",
       "0   Halo\\n blibli. Sedikit saran untuk gratis ong...   \n",
       "1                      So far so good. Respon cepat.   \n",
       "2                                              thank   \n",
       "3   Aplikasi sering not responding di hp saya (as...   \n",
       "4                                  Gak ada komentar.   \n",
       "\n",
       "                             label  label_num  sentiment  \\\n",
       "0  Rated 4 stars out of five stars          4          1   \n",
       "1  Rated 5 stars out of five stars          5          1   \n",
       "2  Rated 3 stars out of five stars          3          0   \n",
       "3  Rated 2 stars out of five stars          2          0   \n",
       "4  Rated 5 stars out of five stars          5          1   \n",
       "\n",
       "                                          text_clean  \n",
       "0  halo blibli sedikit saran untuk gratis ongkirn...  \n",
       "1                        so far so good respon cepat  \n",
       "2                                              thank  \n",
       "3  aplikasi sering not responding di hp saya asus...  \n",
       "4                                   gak ada komentar  "
      ]
     },
     "execution_count": 32,
     "metadata": {},
     "output_type": "execute_result"
    }
   ],
   "source": [
    "d_train.head()"
   ]
  },
  {
   "cell_type": "code",
   "execution_count": 49,
   "id": "f55f1868",
   "metadata": {},
   "outputs": [
    {
     "data": {
      "text/html": [
       "<div>\n",
       "<style scoped>\n",
       "    .dataframe tbody tr th:only-of-type {\n",
       "        vertical-align: middle;\n",
       "    }\n",
       "\n",
       "    .dataframe tbody tr th {\n",
       "        vertical-align: top;\n",
       "    }\n",
       "\n",
       "    .dataframe thead th {\n",
       "        text-align: right;\n",
       "    }\n",
       "</style>\n",
       "<table border=\"1\" class=\"dataframe\">\n",
       "  <thead>\n",
       "    <tr style=\"text-align: right;\">\n",
       "      <th></th>\n",
       "      <th>text</th>\n",
       "      <th>label</th>\n",
       "      <th>label_num</th>\n",
       "      <th>sentiment</th>\n",
       "      <th>text_clean</th>\n",
       "    </tr>\n",
       "  </thead>\n",
       "  <tbody>\n",
       "    <tr>\n",
       "      <th>0</th>\n",
       "      <td>bagussss</td>\n",
       "      <td>Rated 5 stars out of five stars</td>\n",
       "      <td>5</td>\n",
       "      <td>1</td>\n",
       "      <td>bagussss</td>\n",
       "    </tr>\n",
       "    <tr>\n",
       "      <th>1</th>\n",
       "      <td>Pengiriman gratis dan produk bervariasi</td>\n",
       "      <td>Rated 5 stars out of five stars</td>\n",
       "      <td>5</td>\n",
       "      <td>1</td>\n",
       "      <td>kirim gratis dan produk variasi</td>\n",
       "    </tr>\n",
       "    <tr>\n",
       "      <th>2</th>\n",
       "      <td>Praktis dan mudah aplikasinya digunakan</td>\n",
       "      <td>Rated 5 stars out of five stars</td>\n",
       "      <td>5</td>\n",
       "      <td>1</td>\n",
       "      <td>praktis dan mudah aplikasi guna</td>\n",
       "    </tr>\n",
       "    <tr>\n",
       "      <th>3</th>\n",
       "      <td>No comment</td>\n",
       "      <td>Rated 2 stars out of five stars</td>\n",
       "      <td>2</td>\n",
       "      <td>0</td>\n",
       "      <td>no comment</td>\n",
       "    </tr>\n",
       "    <tr>\n",
       "      <th>4</th>\n",
       "      <td>Aplikasi Belanja Online terbaik di Indonesia ...</td>\n",
       "      <td>Rated 5 stars out of five stars</td>\n",
       "      <td>5</td>\n",
       "      <td>1</td>\n",
       "      <td>aplikasi belanja online baik di indonesia saat...</td>\n",
       "    </tr>\n",
       "  </tbody>\n",
       "</table>\n",
       "</div>"
      ],
      "text/plain": [
       "                                                text  \\\n",
       "0                                           bagussss   \n",
       "1            Pengiriman gratis dan produk bervariasi   \n",
       "2            Praktis dan mudah aplikasinya digunakan   \n",
       "3                                         No comment   \n",
       "4   Aplikasi Belanja Online terbaik di Indonesia ...   \n",
       "\n",
       "                             label  label_num  sentiment  \\\n",
       "0  Rated 5 stars out of five stars          5          1   \n",
       "1  Rated 5 stars out of five stars          5          1   \n",
       "2  Rated 5 stars out of five stars          5          1   \n",
       "3  Rated 2 stars out of five stars          2          0   \n",
       "4  Rated 5 stars out of five stars          5          1   \n",
       "\n",
       "                                          text_clean  \n",
       "0                                           bagussss  \n",
       "1                    kirim gratis dan produk variasi  \n",
       "2                    praktis dan mudah aplikasi guna  \n",
       "3                                         no comment  \n",
       "4  aplikasi belanja online baik di indonesia saat...  "
      ]
     },
     "execution_count": 49,
     "metadata": {},
     "output_type": "execute_result"
    }
   ],
   "source": [
    "d_test.head()"
   ]
  },
  {
   "cell_type": "markdown",
   "id": "9c996129",
   "metadata": {},
   "source": [
    "### Feature extraction"
   ]
  },
  {
   "cell_type": "code",
   "execution_count": 33,
   "id": "add0285c",
   "metadata": {},
   "outputs": [],
   "source": [
    "tfidf = TfidfVectorizer()"
   ]
  },
  {
   "cell_type": "code",
   "execution_count": 34,
   "id": "ad4a3421",
   "metadata": {},
   "outputs": [],
   "source": [
    "X_train = tfidf.fit_transform(d_train.text_clean)"
   ]
  },
  {
   "cell_type": "code",
   "execution_count": 50,
   "id": "4e9d504c",
   "metadata": {},
   "outputs": [],
   "source": [
    "X_test = tfidf.transform(d_test.text_clean)"
   ]
  },
  {
   "cell_type": "code",
   "execution_count": 51,
   "id": "272e8a40",
   "metadata": {},
   "outputs": [
    {
     "data": {
      "text/plain": [
       "(7028, 5467)"
      ]
     },
     "execution_count": 51,
     "metadata": {},
     "output_type": "execute_result"
    }
   ],
   "source": [
    "X_train.shape"
   ]
  },
  {
   "cell_type": "code",
   "execution_count": 52,
   "id": "1d3f811c",
   "metadata": {},
   "outputs": [
    {
     "data": {
      "text/plain": [
       "(3012, 5467)"
      ]
     },
     "execution_count": 52,
     "metadata": {},
     "output_type": "execute_result"
    }
   ],
   "source": [
    "X_test.shape"
   ]
  },
  {
   "cell_type": "markdown",
   "id": "20cd5cce",
   "metadata": {},
   "source": [
    "### Model"
   ]
  },
  {
   "cell_type": "code",
   "execution_count": 56,
   "id": "28948cf8",
   "metadata": {},
   "outputs": [],
   "source": [
    "model = SVC(C=1.0, kernel='linear', random_state=42)"
   ]
  },
  {
   "cell_type": "code",
   "execution_count": 57,
   "id": "720be4d1",
   "metadata": {},
   "outputs": [
    {
     "data": {
      "text/plain": [
       "SVC(C=1.0, break_ties=False, cache_size=200, class_weight=None, coef0=0.0,\n",
       "    decision_function_shape='ovr', degree=3, gamma='scale', kernel='linear',\n",
       "    max_iter=-1, probability=False, random_state=42, shrinking=True, tol=0.001,\n",
       "    verbose=False)"
      ]
     },
     "execution_count": 57,
     "metadata": {},
     "output_type": "execute_result"
    }
   ],
   "source": [
    "model"
   ]
  },
  {
   "cell_type": "code",
   "execution_count": 58,
   "id": "518aff19",
   "metadata": {},
   "outputs": [
    {
     "data": {
      "text/plain": [
       "SVC(C=1.0, break_ties=False, cache_size=200, class_weight=None, coef0=0.0,\n",
       "    decision_function_shape='ovr', degree=3, gamma='scale', kernel='linear',\n",
       "    max_iter=-1, probability=False, random_state=42, shrinking=True, tol=0.001,\n",
       "    verbose=False)"
      ]
     },
     "execution_count": 58,
     "metadata": {},
     "output_type": "execute_result"
    }
   ],
   "source": [
    "model.fit(X_train, d_train.sentiment)"
   ]
  },
  {
   "cell_type": "code",
   "execution_count": 59,
   "id": "f9e3b993",
   "metadata": {},
   "outputs": [],
   "source": [
    "y_pred = model.predict(X_test)"
   ]
  },
  {
   "cell_type": "code",
   "execution_count": 60,
   "id": "710849ed",
   "metadata": {},
   "outputs": [],
   "source": [
    "def scoring(y_true, y_pred):\n",
    "    acc = accuracy_score(y_true, y_pred)\n",
    "    rec = recall_score(y_true, y_pred)\n",
    "    pre = precision_score(y_true, y_pred)\n",
    "    f1 = f1_score(y_true, y_pred)\n",
    "    \n",
    "    return {'accuracy': acc, 'recall': rec , 'precision': pre, 'f score': f1}"
   ]
  },
  {
   "cell_type": "code",
   "execution_count": 61,
   "id": "4b75efb7",
   "metadata": {},
   "outputs": [
    {
     "data": {
      "text/plain": [
       "{'accuracy': 0.9189907038512616,\n",
       " 'recall': 0.9687993680884676,\n",
       " 'precision': 0.9369747899159664,\n",
       " 'f score': 0.9526213592233008}"
      ]
     },
     "execution_count": 61,
     "metadata": {},
     "output_type": "execute_result"
    }
   ],
   "source": [
    "scoring(d_test.sentiment, y_pred)"
   ]
  },
  {
   "cell_type": "code",
   "execution_count": 64,
   "id": "426da6dc",
   "metadata": {},
   "outputs": [
    {
     "data": {
      "text/plain": [
       "<matplotlib.axes._subplots.AxesSubplot at 0x1cddc859be0>"
      ]
     },
     "execution_count": 64,
     "metadata": {},
     "output_type": "execute_result"
    },
    {
     "data": {
      "image/png": "[encoded data removed]",
      "text/plain": [
       "<Figure size 432x288 with 1 Axes>"
      ]
     },
     "metadata": {
      "needs_background": "light"
     },
     "output_type": "display_data"
    }
   ],
   "source": [
    "sns.countplot(d_test.sentiment)"
   ]
  },
  {
   "cell_type": "code",
   "execution_count": 65,
   "id": "75dd7139",
   "metadata": {},
   "outputs": [
    {
     "data": {
      "text/plain": [
       "1    2532\n",
       "0     480\n",
       "Name: sentiment, dtype: int64"
      ]
     },
     "execution_count": 65,
     "metadata": {},
     "output_type": "execute_result"
    }
   ],
   "source": [
    "d_test.sentiment.value_counts()"
   ]
  },
  {
   "cell_type": "code",
   "execution_count": 66,
   "id": "066fa59b",
   "metadata": {},
   "outputs": [
    {
     "data": {
      "text/plain": [
       "0.8406374501992032"
      ]
     },
     "execution_count": 66,
     "metadata": {},
     "output_type": "execute_result"
    }
   ],
   "source": [
    "2532 / d_test.shape[0]"
   ]
  },
  {
   "cell_type": "code",
   "execution_count": null,
   "id": "ca5055ca",
   "metadata": {},
   "outputs": [],
   "source": []
  }
 ],
 "metadata": {
  "kernelspec": {
   "display_name": "Python 3",
   "language": "python",
   "name": "python3"
  },
  "language_info": {
   "codemirror_mode": {
    "name": "ipython",
    "version": 3
   },
   "file_extension": ".py",
   "mimetype": "text/x-python",
   "name": "python",
   "nbconvert_exporter": "python",
   "pygments_lexer": "ipython3",
   "version": "3.7.3"
  }
 },
 "nbformat": 4,
 "nbformat_minor": 5
}
